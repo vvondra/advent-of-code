{
 "cells": [
  {
   "cell_type": "code",
   "execution_count": 1,
   "metadata": {},
   "outputs": [],
   "source": [
    "file = open(\"input\");\n",
    "lines = readlines(file);"
   ]
  },
  {
   "cell_type": "code",
   "execution_count": 2,
   "metadata": {},
   "outputs": [
    {
     "data": {
      "text/plain": [
       "Dict{String,Int64} with 10 entries:\n",
       "  \"samoyeds\"    => 2\n",
       "  \"akitas\"      => 0\n",
       "  \"pomeranians\" => 3\n",
       "  \"trees\"       => 3\n",
       "  \"perfumes\"    => 1\n",
       "  \"vizslas\"     => 0\n",
       "  \"cars\"        => 2\n",
       "  \"goldfish\"    => 5\n",
       "  \"cats\"        => 7\n",
       "  \"children\"    => 3"
      ]
     },
     "execution_count": 2,
     "metadata": {},
     "output_type": "execute_result"
    }
   ],
   "source": [
    "# conditions\n",
    "conditions = Dict(\n",
    "    \"children\" => 3,\n",
    "    \"cats\" => 7,\n",
    "    \"samoyeds\" => 2,\n",
    "    \"pomeranians\" => 3,\n",
    "    \"akitas\" => 0,\n",
    "    \"vizslas\" => 0,\n",
    "    \"goldfish\" => 5,\n",
    "    \"trees\" => 3,\n",
    "    \"cars\" => 2,\n",
    "    \"perfumes\" => 1\n",
    ")"
   ]
  },
  {
   "cell_type": "code",
   "execution_count": 3,
   "metadata": {},
   "outputs": [],
   "source": [
    "stats = Dict{String, Dict{String,Int64}}()\n",
    "for line in lines\n",
    "    sep = findfirst(\":\", line)\n",
    "    sue = line[1:sep.start-1]\n",
    "    statsline = line[sep.start + 1:end]\n",
    "    stats[sue] = Dict{String, Int64}()\n",
    "    for stat in split(statsline, \",\")\n",
    "        statpair= split(stat, \": \")\n",
    "        stats[sue][strip(statpair[1])] = parse(Int64, statpair[2])\n",
    "    end\n",
    "end"
   ]
  },
  {
   "cell_type": "code",
   "execution_count": 4,
   "metadata": {},
   "outputs": [
    {
     "data": {
      "text/plain": [
       "Dict{String,Dict{String,Int64}} with 1 entry:\n",
       "  \"Sue 405\" => Dict(\"trees\"=>8,\"perfumes\"=>1,\"cars\"=>2)"
      ]
     },
     "execution_count": 4,
     "metadata": {},
     "output_type": "execute_result"
    }
   ],
   "source": [
    "function filterstats(e)\n",
    "    for (cond, value) in conditions\n",
    "        if (!haskey(e.second, cond))\n",
    "            continue\n",
    "        end\n",
    "        \n",
    "        if (cond == \"cats\" || cond == \"trees\")\n",
    "            if (e.second[cond] <= value)\n",
    "               return false \n",
    "            end\n",
    "        elseif (cond == \"pomerians\" || cond == \"goldfish\")\n",
    "            if (e.second[cond] >= value)\n",
    "               return false \n",
    "            end\n",
    "        elseif (e.second[cond] != value)\n",
    "           return false \n",
    "        end\n",
    "    end\n",
    "    \n",
    "    return true\n",
    "end\n",
    "    \n",
    "filter(filterstats, stats)"
   ]
  }
 ],
 "metadata": {
  "kernelspec": {
   "display_name": "Julia 1.0.2",
   "language": "julia",
   "name": "julia-1.0"
  },
  "language_info": {
   "file_extension": ".jl",
   "mimetype": "application/julia",
   "name": "julia",
   "version": "1.0.2"
  }
 },
 "nbformat": 4,
 "nbformat_minor": 2
}
