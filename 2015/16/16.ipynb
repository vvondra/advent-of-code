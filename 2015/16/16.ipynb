{
 "cells": [
  {
   "cell_type": "code",
   "execution_count": 3,
   "metadata": {},
   "outputs": [],
   "source": [
    "file = open(\"input\");\n",
    "lines = readlines(file);"
   ]
  },
  {
   "cell_type": "code",
   "execution_count": 4,
   "metadata": {},
   "outputs": [
    {
     "data": {
      "text/plain": [
       "Dict{String,Int64} with 10 entries:\n",
       "  \"samoyeds\"    => 2\n",
       "  \"akitas\"      => 0\n",
       "  \"pomeranians\" => 3\n",
       "  \"trees\"       => 3\n",
       "  \"perfumes\"    => 1\n",
       "  \"vizslas\"     => 0\n",
       "  \"cars\"        => 2\n",
       "  \"goldfish\"    => 5\n",
       "  \"cats\"        => 7\n",
       "  \"children\"    => 3"
      ]
     },
     "execution_count": 4,
     "metadata": {},
     "output_type": "execute_result"
    }
   ],
   "source": [
    "# conditions\n",
    "conditions = Dict(\n",
    "    \"children\" => 3,\n",
    "    \"cats\" => 7,\n",
    "    \"samoyeds\" => 2,\n",
    "    \"pomeranians\" => 3,\n",
    "    \"akitas\" => 0,\n",
    "    \"vizslas\" => 0,\n",
    "    \"goldfish\" => 5,\n",
    "    \"trees\" => 3,\n",
    "    \"cars\" => 2,\n",
    "    \"perfumes\" => 1\n",
    ")"
   ]
  },
  {
   "cell_type": "code",
   "execution_count": null,
   "metadata": {},
   "outputs": [],
   "source": [
    "for line in lines\n",
    "    "
   ]
  }
 ],
 "metadata": {
  "kernelspec": {
   "display_name": "Julia 1.0.2",
   "language": "julia",
   "name": "julia-1.0"
  },
  "language_info": {
   "file_extension": ".jl",
   "mimetype": "application/julia",
   "name": "julia",
   "version": "1.0.2"
  }
 },
 "nbformat": 4,
 "nbformat_minor": 2
}
